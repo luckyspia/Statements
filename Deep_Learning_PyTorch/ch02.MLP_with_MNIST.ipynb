{
 "cells": [
  {
   "cell_type": "code",
   "execution_count": 1,
   "metadata": {},
   "outputs": [],
   "source": [
    "## Multi Layer Perceptron with MNIST DATA"
   ]
  },
  {
   "cell_type": "code",
   "execution_count": 2,
   "metadata": {},
   "outputs": [],
   "source": [
    "#### Model Import"
   ]
  },
  {
   "cell_type": "code",
   "execution_count": 3,
   "metadata": {},
   "outputs": [],
   "source": [
    "import numpy as np # 선형 대수와 관련된 함수를 쉽게 이용할 수 있느 모듈\n",
    "import matplotlib.pyplot as plt # 함수 실행 결과 산출물에 대한 수치를 시각화 할 수 있는 외부 모듈\n",
    "\n",
    "import torch # 파이토치의 기본 모듈\n",
    "import torch.nn as nn # 파이토치 모듈 중 딥러닝 모델을 설계할 때 필요한 함수를 모아 놓은 모듈\n",
    "import torch.nn.functional as F # 위 모둘 즁에서도 자주 이용되는 함수를 F로 지정\n",
    "from torchvision import transforms, datasets # 컴퓨터 비전 연구 분야 중 자주 이용하는 torchvision 모듈 내 두 함수를 임포트"
   ]
  },
  {
   "cell_type": "code",
   "execution_count": 4,
   "metadata": {},
   "outputs": [
    {
     "name": "stdout",
     "output_type": "stream",
     "text": [
      "Using PyTorch version: 1.11.0  Device: cuda\n"
     ]
    }
   ],
   "source": [
    "# 파이토치 프레임워크를 이용해 딥러닝 모델을 설계할 때 파라미터 값을 업데이트할 때 이용하는 장비 선택\n",
    "if torch.cuda.is_available():\n",
    "    DEVICE = torch.device('cuda')\n",
    "else:\n",
    "    DEVICE = torch.device('cpu')\n",
    "\n",
    "print('Using PyTorch version:', torch.__version__, ' Device:', DEVICE)\n",
    "# GPU를 사용할 수 있다면 Device 가 cuda 로 출력"
   ]
  },
  {
   "cell_type": "code",
   "execution_count": 5,
   "metadata": {},
   "outputs": [],
   "source": [
    "BATCH_SIZE = 32 # MLP 모델을 학습할 때 필요한 데이터 개수의 단위\n",
    "                # Mini-batch 1개 단위에 데이터가 32개로 구성됨 - 1개의 mini-Batch를 이용해 학습하는 횟수를 'Iteration', 전체 데이터를 이용해 학습하는 횟수를 'epoch'\n",
    "                # 만약 10,000개 data, 1,000개 batch_size라면, 1 epoch 당 10회의 Iteration 발생\n",
    "EPOCHS = 10 # 존재하고 있는 Mini-batch를 전부 이용하는 횟수 = 전체 데이터셋을 10번 반복해 학습"
   ]
  },
  {
   "cell_type": "code",
   "execution_count": 6,
   "metadata": {},
   "outputs": [
    {
     "name": "stdout",
     "output_type": "stream",
     "text": [
      "Downloading http://yann.lecun.com/exdb/mnist/train-images-idx3-ubyte.gz\n",
      "Downloading http://yann.lecun.com/exdb/mnist/train-images-idx3-ubyte.gz to ./data/MNIST\\MNIST\\raw\\train-images-idx3-ubyte.gz\n"
     ]
    },
    {
     "data": {
      "application/vnd.jupyter.widget-view+json": {
       "model_id": "cc3feb15d6cf4b1199fddf79ac50e995",
       "version_major": 2,
       "version_minor": 0
      },
      "text/plain": [
       "  0%|          | 0/9912422 [00:00<?, ?it/s]"
      ]
     },
     "metadata": {},
     "output_type": "display_data"
    },
    {
     "name": "stdout",
     "output_type": "stream",
     "text": [
      "Extracting ./data/MNIST\\MNIST\\raw\\train-images-idx3-ubyte.gz to ./data/MNIST\\MNIST\\raw\n",
      "\n",
      "Downloading http://yann.lecun.com/exdb/mnist/train-labels-idx1-ubyte.gz\n",
      "Downloading http://yann.lecun.com/exdb/mnist/train-labels-idx1-ubyte.gz to ./data/MNIST\\MNIST\\raw\\train-labels-idx1-ubyte.gz\n"
     ]
    },
    {
     "data": {
      "application/vnd.jupyter.widget-view+json": {
       "model_id": "3bab36856b764f6182ca2fab415ca972",
       "version_major": 2,
       "version_minor": 0
      },
      "text/plain": [
       "  0%|          | 0/28881 [00:00<?, ?it/s]"
      ]
     },
     "metadata": {},
     "output_type": "display_data"
    },
    {
     "name": "stdout",
     "output_type": "stream",
     "text": [
      "Extracting ./data/MNIST\\MNIST\\raw\\train-labels-idx1-ubyte.gz to ./data/MNIST\\MNIST\\raw\n",
      "\n",
      "Downloading http://yann.lecun.com/exdb/mnist/t10k-images-idx3-ubyte.gz\n",
      "Downloading http://yann.lecun.com/exdb/mnist/t10k-images-idx3-ubyte.gz to ./data/MNIST\\MNIST\\raw\\t10k-images-idx3-ubyte.gz\n"
     ]
    },
    {
     "data": {
      "application/vnd.jupyter.widget-view+json": {
       "model_id": "25294673bc0447e28b0f03332cb47cdd",
       "version_major": 2,
       "version_minor": 0
      },
      "text/plain": [
       "  0%|          | 0/1648877 [00:00<?, ?it/s]"
      ]
     },
     "metadata": {},
     "output_type": "display_data"
    },
    {
     "name": "stdout",
     "output_type": "stream",
     "text": [
      "Extracting ./data/MNIST\\MNIST\\raw\\t10k-images-idx3-ubyte.gz to ./data/MNIST\\MNIST\\raw\n",
      "\n",
      "Downloading http://yann.lecun.com/exdb/mnist/t10k-labels-idx1-ubyte.gz\n",
      "Downloading http://yann.lecun.com/exdb/mnist/t10k-labels-idx1-ubyte.gz to ./data/MNIST\\MNIST\\raw\\t10k-labels-idx1-ubyte.gz\n"
     ]
    },
    {
     "data": {
      "application/vnd.jupyter.widget-view+json": {
       "model_id": "5a13d9c3eb424bc381e63549adad2a42",
       "version_major": 2,
       "version_minor": 0
      },
      "text/plain": [
       "  0%|          | 0/4542 [00:00<?, ?it/s]"
      ]
     },
     "metadata": {},
     "output_type": "display_data"
    },
    {
     "name": "stdout",
     "output_type": "stream",
     "text": [
      "Extracting ./data/MNIST\\MNIST\\raw\\t10k-labels-idx1-ubyte.gz to ./data/MNIST\\MNIST\\raw\n",
      "\n"
     ]
    }
   ],
   "source": [
    "# MNIST Dataset Download\n",
    "train_dataset = datasets.MNIST(root = \"./data/MNIST\", # 데이터가 저장될 장소\n",
    "                               train = True, # 대상 데이터가 학습용은지, 학습 이후 성능 검증용인지 지정\n",
    "                               download = True, # 해당 데이터를 인터넷상에서 다운로드해 이용할 것인지 지정\n",
    "                               transform = transforms.ToTensor()) # 이미지 데이터에 대한 전처리 진행, 픽셀 범위를 0~1 사이로 정규화\n",
    "                               # Input 데이터 값의 크기가 커질수록 불안정하거나 과적합되는 방향으로 학습이 진행될 우려가 있으므로 정규화 권장\n",
    "\n",
    "test_dataset = datasets.MNIST(root = \"./data/MNIST\",\n",
    "                              train = False,\n",
    "                              transform = transforms.ToTensor())\n",
    "\n",
    "# 다운로드한 MNIST 데이터셋을 Mini-Batch 단위로 분리해 지정, Batch Size만큼, 1개의 Mini-Batch를 구성하는 것을 DataLoader 함수를 이용해 진행\n",
    "train_loader = torch.utils.data.DataLoader(dataset = train_dataset, # Mini-Batch 단위로 할당하고자 하는 데이터셋 지정\n",
    "                                           batch_size = BATCH_SIZE, # Mini-Batch 1개 단위를 구성하는 데이터의 개수\n",
    "                                           shuffle = True) # 데이터의 순서를 섞어 특정 Label의 매칭된 이미지 데이터의 특징을 보고 학습하지 않게 함\n",
    "\n",
    "test_loader = torch.utils.data.DataLoader(dataset = test_dataset,\n",
    "                                          batch_size = BATCH_SIZE,\n",
    "                                          shuffle = False) # 검증용 데이터는 섞을 필요 없음"
   ]
  },
  {
   "cell_type": "code",
   "execution_count": 7,
   "metadata": {},
   "outputs": [
    {
     "name": "stdout",
     "output_type": "stream",
     "text": [
      "X_train: torch.Size([32, 1, 28, 28]) type: torch.FloatTensor\n",
      "y_train: torch.Size([32]) type: torch.LongTensor\n"
     ]
    }
   ],
   "source": [
    "for (X_train, y_train) in train_loader:\n",
    "    print('X_train:', X_train.size(), 'type:', X_train.type())\n",
    "    print('y_train:', y_train.size(), 'type:', y_train.type())\n",
    "    break\n",
    "# X_train : torch.Size([32, 1, 28, 28]) type: torch.FloatTensor → 32개의 이미지 데이터가 1개의 Mini-Batch를 구성하며, 가로 28 세로 28 1 채널(=흑백) 이미지 데이터\n",
    "# y_train : torch.Size([32]) type: torch.LongTensor → 32개의 이미지 데이터 각각에 label 값이 1개씩 존재하는 32개의 데이터"
   ]
  },
  {
   "cell_type": "code",
   "execution_count": 8,
   "metadata": {},
   "outputs": [
    {
     "data": {
      "image/png": "[encoded data removed]",
      "text/plain": [
       "<Figure size 720x72 with 10 Axes>"
      ]
     },
     "metadata": {
      "needs_background": "light"
     },
     "output_type": "display_data"
    }
   ],
   "source": [
    "pltsize = 1\n",
    "plt.figure(figsize=(10 * pltsize, pltsize))\n",
    "for i in range(10):\n",
    "    plt.subplot(1, 10, i + 1)\n",
    "    plt.axis('off')\n",
    "    plt.imshow(X_train[i, :, :, :].numpy().reshape(28, 28), cmap = \"gray_r\")\n",
    "    plt.title('Class: ' + str(y_train[i].item()))"
   ]
  },
  {
   "cell_type": "code",
   "execution_count": 9,
   "metadata": {},
   "outputs": [],
   "source": [
    "class Net(nn.Module): # PyTorch 모듈 내 딥러닝 모델 관련 기본 함수를 포함하고 있는 nn.Module 클래스를 상속\n",
    "    def __init__(self): # Net 클래스의 인스턴스를 생성했을 때 지니게 되는 성질을 정의\n",
    "        super(Net, self).__init__() # nn.Module 내에 있는 메서드를 상속받아 이용\n",
    "        self.fc1 = nn.Linear(28 * 28, 512) # 첫 번째 Fully Connected Layer, MNIST 데이터를 Input으로 사용하기 위한 크기의 노드 수 설정, Output은 다음 층의 Input과 마줓ㅁ\n",
    "        self.fc2 = nn.Linear(512, 256) # 두 번째 Fully Connected Layer\n",
    "        self.fc3 = nn.Linear(256, 10) # 마지막 Fully Connected Layer, 10가지 클래스를 표한하기 위한 Label 값은 원-핫 인코딩으로 표현됨\n",
    "\n",
    "    def forward(self, x): # Net 클래스를 이용해 설계한 MLP 모델의 Forward Propagation을 정의. 즉, 설계한 모델에 데이터를 입력했을 때 Output을 계산하기까지의 과정\n",
    "        x = x.view(-1, 28 * 28) # MLP 모델은 1차원 벡터 값을 입력으로 받으므로, 2차원 데이터를 1차원으로 변환하기 위해 view 메서드를 활용해 Flatten\n",
    "        x = self.fc1(x) # __init__ method를 이용해 정의한 첫 번째 FCL에 1차원으로 펼쳐진 이미지 데이터를 통과시킴\n",
    "        x = F.sigmoid(x) # 비선형 함수 시그모이드를 이용해 두 번째 FCL의 Input 계산\n",
    "        x = self.fc2(x) # __init__ method를 이용해 정의된 두 번째 FCL에 이전의 시그모이드를 통해 계산된 결과값을 통과시킴\n",
    "        x = F.sigmoid(x) # 위와 동일\n",
    "        x = self.fc3(x) # 위와 동일\n",
    "        x = F.log_softmax(x, dim = 1) # 최종 Output 계산, log_softmax()를 통해 MLP 모델이 역전파 알고리즘을 이용해 학습을 진행할 때, Loss 값에 대한 Gradient 값을 원활하게 계산 가능\n",
    "        return x"
   ]
  },
  {
   "cell_type": "code",
   "execution_count": 10,
   "metadata": {},
   "outputs": [
    {
     "name": "stdout",
     "output_type": "stream",
     "text": [
      "Net(\n",
      "  (fc1): Linear(in_features=784, out_features=512, bias=True)\n",
      "  (fc2): Linear(in_features=512, out_features=256, bias=True)\n",
      "  (fc3): Linear(in_features=256, out_features=10, bias=True)\n",
      ")\n"
     ]
    }
   ],
   "source": [
    "model = Net().to(DEVICE) # 정의된 MLP 모델을 기존에 선정한 DEVICE에 할당\n",
    "optimizer = torch.optim.SGD(model.parameters(), lr = 0.01, momentum = 0.5)\n",
    "# Back Propagation을 이용해 파라미터를 업데이트할 때 이용하는 옵티마이저 정의 = 학습률: 0.01, 관성: 0.5\n",
    "criterion = nn.CrossEntropyLoss()\n",
    "# MLP 모델의 Output 값과 원-핫 인코딩 값과의 Loss는 CrossEntropy를 이용해 계산\n",
    "\n",
    "print(model)"
   ]
  },
  {
   "cell_type": "code",
   "execution_count": 11,
   "metadata": {},
   "outputs": [],
   "source": [
    "def train(model, train_loader, optimizer, log_interval):\n",
    "    model.train() # 기존에 정의한 MLP 모델을 학습 상태로 지정\n",
    "    for batch_idx, (image, label) in enumerate(train_loader): # 기존에 정의한 'train_loader'에는 이미지와 레이블이 Mini-batch 단위로 묶여있음\n",
    "        image = image.to(DEVICE) # Mini-Batch 내에 있느 이미지 데이터를 기존에 정의한 장비에 할당\n",
    "        label = label.to(DEVICE) # 매칭된 레이블 데이터도 기존에 정의한 장비에 할당\n",
    "        optimizer.zero_grad() # 기존에 정의한 장비에 데이터를 할당할 경우, 과거에 이용한 Mini-Batch 내에 있는 데이터를 바탕으로 계산된 Loss의 Gradient 값이 optimizer에 할당돼 있으므로 Optimizer의 Gradient 초기화\n",
    "        output = model(image) # 장비에 할당된 이미지 데이터를 MLP 모델의 Input으로 이용해 Output 계산\n",
    "        loss = criterion(output, label) # 계산된 Output과 레이블 데이터를 기존에 정의한 Crossentropy를 이용해 Loss 값 계산\n",
    "        loss.backward() # Loss 값을 바탕으로 역전파를 통해 계산된 Gradient 값을 각 파라미터에 할당\n",
    "        optimizer.step() # 각 파라미터에 할당된 Gradient 값을 이용해 파라미터 값 업데이트\n",
    "\n",
    "        if batch_idx % log_interval == 0:\n",
    "            print(\"Train Epoch: {} [{}/{} ({:.0f}%)]\\tTrain Loss: {:.6f}\".format(\n",
    "                epoch, batch_idx * len(image), \n",
    "                len(train_loader.dataset), 100. * batch_idx / len(train_loader), \n",
    "                loss.item()))"
   ]
  },
  {
   "cell_type": "code",
   "execution_count": 12,
   "metadata": {},
   "outputs": [],
   "source": [
    "def evaluate(model, test_loader):\n",
    "    model.eval() # 학습 과정 또는 학습이 완료된 MLP 모델을 학습 상태가 아닌 평가 상태로 지정\n",
    "    test_loss = 0 # 기존에 정의한 'test_loader' 내의 데이터를 이용해 Loss 값 계산을 위해 'test_loss'를 임시로 0으로 설정\n",
    "    correct = 0 # 올바른 Class로 분류한 경우를 세기 위해 correct = 0 으로 임시 설정\n",
    "\n",
    "    with torch.no_grad(): # 평가 단계에서 Gradient를 통해 파라미터 값이 업데이트 되는 현상을 방지\n",
    "        for image, label in test_loader: # 'train-loader'와 동일하게 Mini-Batch 단위로 저장돼 있음\n",
    "            image = image.to(DEVICE) # Mini-Batch 내의 데이터를 기존에 정의한 장비에 할당\n",
    "            label = label.to(DEVICE) # 위와 동일\n",
    "            output = model(image) # 장비에 할당된 이미지 데이터를 MLP 모델의 Input으로 Output 계산\n",
    "            test_loss += criterion(output, label).item() # 계산된 Output과 할당된 레이블로 CrossEntropy를 이용해 Loss 값 계산 결과를 test_loss에 더해 업데이트 \n",
    "            prediction = output.max(1, keepdim = True)[1] # Output 값은 크기가 10인 벡터, 계산된 벡터 값 내 가장 큰 값인 위치에 해당하는 위치에 대응하는 클래스로 예측\n",
    "            correct += prediction.eq(label.view_as(prediction)).sum().item() # MLP 모델이 최종으로 예측한 클래스가 실제와 같으면 횟수 저장\n",
    "    \n",
    "    test_loss /= (len(test_loader.dataset) / BATCH_SIZE) # 현재까지 계산된 test_loss 값을 test_loader 내 존재하는 Mini-Batch 개수만큼 나눠 평균 Loss 값 계싼\n",
    "    test_accuracy = 100. * correct / len(test_loader.dataset) # test_loader 데이터 중 얼마나 맞췄는지 계산해 정확도 계산\n",
    "    return test_loss, test_accuracy"
   ]
  },
  {
   "cell_type": "code",
   "execution_count": 13,
   "metadata": {},
   "outputs": [
    {
     "name": "stderr",
     "output_type": "stream",
     "text": [
      "c:\\Users\\lucky\\anaconda3\\lib\\site-packages\\torch\\nn\\functional.py:1944: UserWarning: nn.functional.sigmoid is deprecated. Use torch.sigmoid instead.\n",
      "  warnings.warn(\"nn.functional.sigmoid is deprecated. Use torch.sigmoid instead.\")\n"
     ]
    },
    {
     "name": "stdout",
     "output_type": "stream",
     "text": [
      "Train Epoch: 1 [0/60000 (0%)]\tTrain Loss: 2.289948\n",
      "Train Epoch: 1 [6400/60000 (11%)]\tTrain Loss: 2.296746\n",
      "Train Epoch: 1 [12800/60000 (21%)]\tTrain Loss: 2.313389\n",
      "Train Epoch: 1 [19200/60000 (32%)]\tTrain Loss: 2.355923\n",
      "Train Epoch: 1 [25600/60000 (43%)]\tTrain Loss: 2.277783\n",
      "Train Epoch: 1 [32000/60000 (53%)]\tTrain Loss: 2.262803\n",
      "Train Epoch: 1 [38400/60000 (64%)]\tTrain Loss: 2.314066\n",
      "Train Epoch: 1 [44800/60000 (75%)]\tTrain Loss: 2.255629\n",
      "Train Epoch: 1 [51200/60000 (85%)]\tTrain Loss: 2.290044\n",
      "Train Epoch: 1 [57600/60000 (96%)]\tTrain Loss: 2.222328\n",
      "\n",
      "[EPOCH: 1], \tTest Loss: 2.2355, \tTest Accuracy: 19.68 % \n",
      "\n",
      "Train Epoch: 2 [0/60000 (0%)]\tTrain Loss: 2.213917\n",
      "Train Epoch: 2 [6400/60000 (11%)]\tTrain Loss: 2.195804\n",
      "Train Epoch: 2 [12800/60000 (21%)]\tTrain Loss: 2.147395\n",
      "Train Epoch: 2 [19200/60000 (32%)]\tTrain Loss: 2.031934\n",
      "Train Epoch: 2 [25600/60000 (43%)]\tTrain Loss: 2.052812\n",
      "Train Epoch: 2 [32000/60000 (53%)]\tTrain Loss: 1.919295\n",
      "Train Epoch: 2 [38400/60000 (64%)]\tTrain Loss: 1.640611\n",
      "Train Epoch: 2 [44800/60000 (75%)]\tTrain Loss: 1.659148\n",
      "Train Epoch: 2 [51200/60000 (85%)]\tTrain Loss: 1.548046\n",
      "Train Epoch: 2 [57600/60000 (96%)]\tTrain Loss: 1.415345\n",
      "\n",
      "[EPOCH: 2], \tTest Loss: 1.2820, \tTest Accuracy: 62.83 % \n",
      "\n",
      "Train Epoch: 3 [0/60000 (0%)]\tTrain Loss: 1.498845\n",
      "Train Epoch: 3 [6400/60000 (11%)]\tTrain Loss: 1.200412\n",
      "Train Epoch: 3 [12800/60000 (21%)]\tTrain Loss: 1.102990\n",
      "Train Epoch: 3 [19200/60000 (32%)]\tTrain Loss: 1.229439\n",
      "Train Epoch: 3 [25600/60000 (43%)]\tTrain Loss: 1.152400\n",
      "Train Epoch: 3 [32000/60000 (53%)]\tTrain Loss: 0.995703\n",
      "Train Epoch: 3 [38400/60000 (64%)]\tTrain Loss: 1.023662\n",
      "Train Epoch: 3 [44800/60000 (75%)]\tTrain Loss: 0.951874\n",
      "Train Epoch: 3 [51200/60000 (85%)]\tTrain Loss: 0.920366\n",
      "Train Epoch: 3 [57600/60000 (96%)]\tTrain Loss: 0.627544\n",
      "\n",
      "[EPOCH: 3], \tTest Loss: 0.7470, \tTest Accuracy: 77.47 % \n",
      "\n",
      "Train Epoch: 4 [0/60000 (0%)]\tTrain Loss: 0.622994\n",
      "Train Epoch: 4 [6400/60000 (11%)]\tTrain Loss: 0.606554\n",
      "Train Epoch: 4 [12800/60000 (21%)]\tTrain Loss: 0.896348\n",
      "Train Epoch: 4 [19200/60000 (32%)]\tTrain Loss: 0.564491\n",
      "Train Epoch: 4 [25600/60000 (43%)]\tTrain Loss: 0.457467\n",
      "Train Epoch: 4 [32000/60000 (53%)]\tTrain Loss: 0.679986\n",
      "Train Epoch: 4 [38400/60000 (64%)]\tTrain Loss: 0.527024\n",
      "Train Epoch: 4 [44800/60000 (75%)]\tTrain Loss: 0.665962\n",
      "Train Epoch: 4 [51200/60000 (85%)]\tTrain Loss: 0.495924\n",
      "Train Epoch: 4 [57600/60000 (96%)]\tTrain Loss: 0.637028\n",
      "\n",
      "[EPOCH: 4], \tTest Loss: 0.5525, \tTest Accuracy: 83.84 % \n",
      "\n",
      "Train Epoch: 5 [0/60000 (0%)]\tTrain Loss: 0.535528\n",
      "Train Epoch: 5 [6400/60000 (11%)]\tTrain Loss: 0.367093\n",
      "Train Epoch: 5 [12800/60000 (21%)]\tTrain Loss: 0.543993\n",
      "Train Epoch: 5 [19200/60000 (32%)]\tTrain Loss: 0.686182\n",
      "Train Epoch: 5 [25600/60000 (43%)]\tTrain Loss: 0.485320\n",
      "Train Epoch: 5 [32000/60000 (53%)]\tTrain Loss: 0.548867\n",
      "Train Epoch: 5 [38400/60000 (64%)]\tTrain Loss: 0.635561\n",
      "Train Epoch: 5 [44800/60000 (75%)]\tTrain Loss: 0.310336\n",
      "Train Epoch: 5 [51200/60000 (85%)]\tTrain Loss: 0.561181\n",
      "Train Epoch: 5 [57600/60000 (96%)]\tTrain Loss: 0.528566\n",
      "\n",
      "[EPOCH: 5], \tTest Loss: 0.4555, \tTest Accuracy: 86.76 % \n",
      "\n",
      "Train Epoch: 6 [0/60000 (0%)]\tTrain Loss: 0.580991\n",
      "Train Epoch: 6 [6400/60000 (11%)]\tTrain Loss: 0.500615\n",
      "Train Epoch: 6 [12800/60000 (21%)]\tTrain Loss: 0.478039\n",
      "Train Epoch: 6 [19200/60000 (32%)]\tTrain Loss: 0.356148\n",
      "Train Epoch: 6 [25600/60000 (43%)]\tTrain Loss: 0.266074\n",
      "Train Epoch: 6 [32000/60000 (53%)]\tTrain Loss: 0.594375\n",
      "Train Epoch: 6 [38400/60000 (64%)]\tTrain Loss: 0.370730\n",
      "Train Epoch: 6 [44800/60000 (75%)]\tTrain Loss: 0.266715\n",
      "Train Epoch: 6 [51200/60000 (85%)]\tTrain Loss: 0.637068\n",
      "Train Epoch: 6 [57600/60000 (96%)]\tTrain Loss: 0.457188\n",
      "\n",
      "[EPOCH: 6], \tTest Loss: 0.4068, \tTest Accuracy: 88.21 % \n",
      "\n",
      "Train Epoch: 7 [0/60000 (0%)]\tTrain Loss: 0.400419\n",
      "Train Epoch: 7 [6400/60000 (11%)]\tTrain Loss: 0.406068\n",
      "Train Epoch: 7 [12800/60000 (21%)]\tTrain Loss: 0.333623\n",
      "Train Epoch: 7 [19200/60000 (32%)]\tTrain Loss: 0.234359\n",
      "Train Epoch: 7 [25600/60000 (43%)]\tTrain Loss: 0.274600\n",
      "Train Epoch: 7 [32000/60000 (53%)]\tTrain Loss: 0.425505\n",
      "Train Epoch: 7 [38400/60000 (64%)]\tTrain Loss: 0.487607\n",
      "Train Epoch: 7 [44800/60000 (75%)]\tTrain Loss: 0.370460\n",
      "Train Epoch: 7 [51200/60000 (85%)]\tTrain Loss: 0.462957\n",
      "Train Epoch: 7 [57600/60000 (96%)]\tTrain Loss: 0.386101\n",
      "\n",
      "[EPOCH: 7], \tTest Loss: 0.3769, \tTest Accuracy: 88.93 % \n",
      "\n",
      "Train Epoch: 8 [0/60000 (0%)]\tTrain Loss: 0.383194\n",
      "Train Epoch: 8 [6400/60000 (11%)]\tTrain Loss: 0.300355\n",
      "Train Epoch: 8 [12800/60000 (21%)]\tTrain Loss: 0.258228\n",
      "Train Epoch: 8 [19200/60000 (32%)]\tTrain Loss: 0.313490\n",
      "Train Epoch: 8 [25600/60000 (43%)]\tTrain Loss: 0.118677\n",
      "Train Epoch: 8 [32000/60000 (53%)]\tTrain Loss: 0.304278\n",
      "Train Epoch: 8 [38400/60000 (64%)]\tTrain Loss: 0.539372\n",
      "Train Epoch: 8 [44800/60000 (75%)]\tTrain Loss: 0.324168\n",
      "Train Epoch: 8 [51200/60000 (85%)]\tTrain Loss: 0.317495\n",
      "Train Epoch: 8 [57600/60000 (96%)]\tTrain Loss: 0.307887\n",
      "\n",
      "[EPOCH: 8], \tTest Loss: 0.3561, \tTest Accuracy: 89.83 % \n",
      "\n",
      "Train Epoch: 9 [0/60000 (0%)]\tTrain Loss: 0.579820\n",
      "Train Epoch: 9 [6400/60000 (11%)]\tTrain Loss: 0.371445\n",
      "Train Epoch: 9 [12800/60000 (21%)]\tTrain Loss: 0.444349\n",
      "Train Epoch: 9 [19200/60000 (32%)]\tTrain Loss: 0.262484\n",
      "Train Epoch: 9 [25600/60000 (43%)]\tTrain Loss: 0.330174\n",
      "Train Epoch: 9 [32000/60000 (53%)]\tTrain Loss: 0.425263\n",
      "Train Epoch: 9 [38400/60000 (64%)]\tTrain Loss: 0.303601\n",
      "Train Epoch: 9 [44800/60000 (75%)]\tTrain Loss: 0.607216\n",
      "Train Epoch: 9 [51200/60000 (85%)]\tTrain Loss: 0.243765\n",
      "Train Epoch: 9 [57600/60000 (96%)]\tTrain Loss: 0.228340\n",
      "\n",
      "[EPOCH: 9], \tTest Loss: 0.3419, \tTest Accuracy: 90.11 % \n",
      "\n",
      "Train Epoch: 10 [0/60000 (0%)]\tTrain Loss: 0.590639\n",
      "Train Epoch: 10 [6400/60000 (11%)]\tTrain Loss: 0.427844\n",
      "Train Epoch: 10 [12800/60000 (21%)]\tTrain Loss: 0.116885\n",
      "Train Epoch: 10 [19200/60000 (32%)]\tTrain Loss: 0.173717\n",
      "Train Epoch: 10 [25600/60000 (43%)]\tTrain Loss: 0.413459\n",
      "Train Epoch: 10 [32000/60000 (53%)]\tTrain Loss: 0.232653\n",
      "Train Epoch: 10 [38400/60000 (64%)]\tTrain Loss: 0.333295\n",
      "Train Epoch: 10 [44800/60000 (75%)]\tTrain Loss: 0.360116\n",
      "Train Epoch: 10 [51200/60000 (85%)]\tTrain Loss: 0.478609\n",
      "Train Epoch: 10 [57600/60000 (96%)]\tTrain Loss: 0.370957\n",
      "\n",
      "[EPOCH: 10], \tTest Loss: 0.3418, \tTest Accuracy: 90.31 % \n",
      "\n"
     ]
    }
   ],
   "source": [
    "for epoch in range(1, EPOCHS + 1):\n",
    "    train(model, train_loader, optimizer, log_interval = 200) # log_interval 은 학습이 진행되면서 Mini-Batch의 Index를 이용해 과정을 모니터링할 수 있도록 출력\n",
    "    test_loss, test_accuracy = evaluate(model, test_loader)\n",
    "    print(\"\\n[EPOCH: {}], \\tTest Loss: {:.4f}, \\tTest Accuracy: {:.2f} % \\n\".format(\n",
    "        epoch, test_loss, test_accuracy))"
   ]
  }
 ],
 "metadata": {
  "interpreter": {
   "hash": "68756eb6c044f31c46e3e1f38723aea1f0146198488dd3d60c0e4241eb6f7dd0"
  },
  "kernelspec": {
   "display_name": "Python 3.9.12 ('base')",
   "language": "python",
   "name": "python3"
  },
  "language_info": {
   "codemirror_mode": {
    "name": "ipython",
    "version": 3
   },
   "file_extension": ".py",
   "mimetype": "text/x-python",
   "name": "python",
   "nbconvert_exporter": "python",
   "pygments_lexer": "ipython3",
   "version": "3.9.12"
  },
  "orig_nbformat": 4
 },
 "nbformat": 4,
 "nbformat_minor": 2
}
